{
 "cells": [
  {
   "cell_type": "markdown",
   "id": "02a196d6",
   "metadata": {},
   "source": [
    "<b>DATA CLEANING CAUSES STATEWISE csv</b>"
   ]
  },
  {
   "cell_type": "code",
   "execution_count": 96,
   "id": "fb87c9e0",
   "metadata": {},
   "outputs": [
    {
     "data": {
      "text/html": [
       "<div>\n",
       "<style scoped>\n",
       "    .dataframe tbody tr th:only-of-type {\n",
       "        vertical-align: middle;\n",
       "    }\n",
       "\n",
       "    .dataframe tbody tr th {\n",
       "        vertical-align: top;\n",
       "    }\n",
       "\n",
       "    .dataframe thead th {\n",
       "        text-align: right;\n",
       "    }\n",
       "</style>\n",
       "<table border=\"1\" class=\"dataframe\">\n",
       "  <thead>\n",
       "    <tr style=\"text-align: right;\">\n",
       "      <th></th>\n",
       "      <th>Country</th>\n",
       "      <th>State</th>\n",
       "      <th>Year</th>\n",
       "      <th>Gender</th>\n",
       "      <th>Cause Of Suicide</th>\n",
       "      <th>Number Of Suicides (UOM:Number), Scaling Factor:1</th>\n",
       "      <th>Percentage Share (UOM:%(Percentage)), Scaling Factor:1</th>\n",
       "    </tr>\n",
       "  </thead>\n",
       "  <tbody>\n",
       "    <tr>\n",
       "      <th>0</th>\n",
       "      <td>India</td>\n",
       "      <td>Andaman and Nicobar Islands</td>\n",
       "      <td>Calendar Year (Jan - Dec), 2022</td>\n",
       "      <td>Female</td>\n",
       "      <td>Bankruptcy or Indebtedness</td>\n",
       "      <td>0.0</td>\n",
       "      <td>NaN</td>\n",
       "    </tr>\n",
       "    <tr>\n",
       "      <th>1</th>\n",
       "      <td>India</td>\n",
       "      <td>Andaman and Nicobar Islands</td>\n",
       "      <td>Calendar Year (Jan - Dec), 2022</td>\n",
       "      <td>Female</td>\n",
       "      <td>Causes Not Known</td>\n",
       "      <td>0.0</td>\n",
       "      <td>NaN</td>\n",
       "    </tr>\n",
       "    <tr>\n",
       "      <th>2</th>\n",
       "      <td>India</td>\n",
       "      <td>Andaman and Nicobar Islands</td>\n",
       "      <td>Calendar Year (Jan - Dec), 2022</td>\n",
       "      <td>Female</td>\n",
       "      <td>Death of Dear Person</td>\n",
       "      <td>0.0</td>\n",
       "      <td>NaN</td>\n",
       "    </tr>\n",
       "  </tbody>\n",
       "</table>\n",
       "</div>"
      ],
      "text/plain": [
       "  Country                        State                             Year  \\\n",
       "0   India  Andaman and Nicobar Islands  Calendar Year (Jan - Dec), 2022   \n",
       "1   India  Andaman and Nicobar Islands  Calendar Year (Jan - Dec), 2022   \n",
       "2   India  Andaman and Nicobar Islands  Calendar Year (Jan - Dec), 2022   \n",
       "\n",
       "   Gender            Cause Of Suicide  \\\n",
       "0  Female  Bankruptcy or Indebtedness   \n",
       "1  Female            Causes Not Known   \n",
       "2  Female        Death of Dear Person   \n",
       "\n",
       "   Number Of Suicides (UOM:Number), Scaling Factor:1  \\\n",
       "0                                                0.0   \n",
       "1                                                0.0   \n",
       "2                                                0.0   \n",
       "\n",
       "   Percentage Share (UOM:%(Percentage)), Scaling Factor:1  \n",
       "0                                                NaN       \n",
       "1                                                NaN       \n",
       "2                                                NaN       "
      ]
     },
     "execution_count": 96,
     "metadata": {},
     "output_type": "execute_result"
    }
   ],
   "source": [
    "import pandas as pd\n",
    "df=pd.read_csv('datasets/causes statewise.csv')\n",
    "df.head(3)"
   ]
  },
  {
   "cell_type": "code",
   "execution_count": 97,
   "id": "3047ba7b",
   "metadata": {},
   "outputs": [],
   "source": [
    "# Remove leading/trailing whitespace from column names\n",
    "df.columns = df.columns.str.strip()\n",
    "\n",
    "# Rename columns for easier access\n",
    "df = df.rename(columns={\n",
    "    'Number Of Suicides (UOM:Number), Scaling Factor:1': 'Number Of Suicides',\n",
    "    'Percentage Share (UOM:%(Percentage)), Scaling Factor:1': 'Percentage Share'\n",
    "})\n",
    "\n",
    "# Strip whitespace from string columns\n",
    "for col in ['Country', 'State', 'Gender', 'Cause Of Suicide']:\n",
    "    df[col] = df[col].str.strip()\n"
   ]
  },
  {
   "cell_type": "code",
   "execution_count": 98,
   "id": "902ab975",
   "metadata": {},
   "outputs": [
    {
     "data": {
      "text/html": [
       "<div>\n",
       "<style scoped>\n",
       "    .dataframe tbody tr th:only-of-type {\n",
       "        vertical-align: middle;\n",
       "    }\n",
       "\n",
       "    .dataframe tbody tr th {\n",
       "        vertical-align: top;\n",
       "    }\n",
       "\n",
       "    .dataframe thead th {\n",
       "        text-align: right;\n",
       "    }\n",
       "</style>\n",
       "<table border=\"1\" class=\"dataframe\">\n",
       "  <thead>\n",
       "    <tr style=\"text-align: right;\">\n",
       "      <th></th>\n",
       "      <th>Country</th>\n",
       "      <th>State</th>\n",
       "      <th>Year</th>\n",
       "      <th>Gender</th>\n",
       "      <th>Cause Of Suicide</th>\n",
       "      <th>Number Of Suicides</th>\n",
       "      <th>Percentage Share</th>\n",
       "    </tr>\n",
       "  </thead>\n",
       "  <tbody>\n",
       "    <tr>\n",
       "      <th>0</th>\n",
       "      <td>India</td>\n",
       "      <td>Andaman and Nicobar Islands</td>\n",
       "      <td>Calendar Year (Jan - Dec), 2022</td>\n",
       "      <td>Female</td>\n",
       "      <td>Bankruptcy or Indebtedness</td>\n",
       "      <td>0.0</td>\n",
       "      <td>NaN</td>\n",
       "    </tr>\n",
       "    <tr>\n",
       "      <th>1</th>\n",
       "      <td>India</td>\n",
       "      <td>Andaman and Nicobar Islands</td>\n",
       "      <td>Calendar Year (Jan - Dec), 2022</td>\n",
       "      <td>Female</td>\n",
       "      <td>Causes Not Known</td>\n",
       "      <td>0.0</td>\n",
       "      <td>NaN</td>\n",
       "    </tr>\n",
       "    <tr>\n",
       "      <th>2</th>\n",
       "      <td>India</td>\n",
       "      <td>Andaman and Nicobar Islands</td>\n",
       "      <td>Calendar Year (Jan - Dec), 2022</td>\n",
       "      <td>Female</td>\n",
       "      <td>Death of Dear Person</td>\n",
       "      <td>0.0</td>\n",
       "      <td>NaN</td>\n",
       "    </tr>\n",
       "  </tbody>\n",
       "</table>\n",
       "</div>"
      ],
      "text/plain": [
       "  Country                        State                             Year  \\\n",
       "0   India  Andaman and Nicobar Islands  Calendar Year (Jan - Dec), 2022   \n",
       "1   India  Andaman and Nicobar Islands  Calendar Year (Jan - Dec), 2022   \n",
       "2   India  Andaman and Nicobar Islands  Calendar Year (Jan - Dec), 2022   \n",
       "\n",
       "   Gender            Cause Of Suicide  Number Of Suicides  Percentage Share  \n",
       "0  Female  Bankruptcy or Indebtedness                 0.0               NaN  \n",
       "1  Female            Causes Not Known                 0.0               NaN  \n",
       "2  Female        Death of Dear Person                 0.0               NaN  "
      ]
     },
     "execution_count": 98,
     "metadata": {},
     "output_type": "execute_result"
    }
   ],
   "source": [
    "df.head(3)"
   ]
  },
  {
   "cell_type": "code",
   "execution_count": 99,
   "id": "a38c70cc",
   "metadata": {},
   "outputs": [
    {
     "data": {
      "text/plain": [
       "array(['Calendar Year (Jan - Dec), 2022',\n",
       "       'Calendar Year (Jan - Dec), 2021',\n",
       "       'Calendar Year (Jan - Dec), 2020',\n",
       "       'Calendar Year (Jan - Dec), 2019',\n",
       "       'Calendar Year (Jan - Dec), 2018',\n",
       "       'Calendar Year (Jan - Dec), 2017',\n",
       "       'Calendar Year (Jan - Dec), 2016',\n",
       "       'Calendar Year (Jan - Dec), 2015',\n",
       "       'Calendar Year (Jan - Dec), 2014',\n",
       "       'Calendar Year (Jan - Dec), 2013',\n",
       "       'Calendar Year (Jan - Dec), 2012',\n",
       "       'Calendar Year (Jan - Dec), 2011',\n",
       "       'Calendar Year (Jan - Dec), 2010',\n",
       "       'Calendar Year (Jan - Dec), 2009',\n",
       "       'Calendar Year (Jan - Dec), 2008',\n",
       "       'Calendar Year (Jan - Dec), 2007',\n",
       "       'Calendar Year (Jan - Dec), 2006',\n",
       "       'Calendar Year (Jan - Dec), 2005',\n",
       "       'Calendar Year (Jan - Dec), 2004'], dtype=object)"
      ]
     },
     "execution_count": 99,
     "metadata": {},
     "output_type": "execute_result"
    }
   ],
   "source": [
    "df['Year'].unique()\n",
    "# we notice , we only need the last 4 digits as we only need the year"
   ]
  },
  {
   "cell_type": "code",
   "execution_count": 100,
   "id": "e68fad0b",
   "metadata": {},
   "outputs": [
    {
     "data": {
      "text/html": [
       "<div>\n",
       "<style scoped>\n",
       "    .dataframe tbody tr th:only-of-type {\n",
       "        vertical-align: middle;\n",
       "    }\n",
       "\n",
       "    .dataframe tbody tr th {\n",
       "        vertical-align: top;\n",
       "    }\n",
       "\n",
       "    .dataframe thead th {\n",
       "        text-align: right;\n",
       "    }\n",
       "</style>\n",
       "<table border=\"1\" class=\"dataframe\">\n",
       "  <thead>\n",
       "    <tr style=\"text-align: right;\">\n",
       "      <th></th>\n",
       "      <th>Country</th>\n",
       "      <th>State</th>\n",
       "      <th>Year</th>\n",
       "      <th>Gender</th>\n",
       "      <th>Cause Of Suicide</th>\n",
       "      <th>Number Of Suicides</th>\n",
       "      <th>Percentage Share</th>\n",
       "    </tr>\n",
       "  </thead>\n",
       "  <tbody>\n",
       "    <tr>\n",
       "      <th>0</th>\n",
       "      <td>India</td>\n",
       "      <td>Andaman and Nicobar Islands</td>\n",
       "      <td>2022</td>\n",
       "      <td>Female</td>\n",
       "      <td>Bankruptcy or Indebtedness</td>\n",
       "      <td>0.0</td>\n",
       "      <td>NaN</td>\n",
       "    </tr>\n",
       "    <tr>\n",
       "      <th>1</th>\n",
       "      <td>India</td>\n",
       "      <td>Andaman and Nicobar Islands</td>\n",
       "      <td>2022</td>\n",
       "      <td>Female</td>\n",
       "      <td>Causes Not Known</td>\n",
       "      <td>0.0</td>\n",
       "      <td>NaN</td>\n",
       "    </tr>\n",
       "    <tr>\n",
       "      <th>2</th>\n",
       "      <td>India</td>\n",
       "      <td>Andaman and Nicobar Islands</td>\n",
       "      <td>2022</td>\n",
       "      <td>Female</td>\n",
       "      <td>Death of Dear Person</td>\n",
       "      <td>0.0</td>\n",
       "      <td>NaN</td>\n",
       "    </tr>\n",
       "  </tbody>\n",
       "</table>\n",
       "</div>"
      ],
      "text/plain": [
       "  Country                        State  Year  Gender  \\\n",
       "0   India  Andaman and Nicobar Islands  2022  Female   \n",
       "1   India  Andaman and Nicobar Islands  2022  Female   \n",
       "2   India  Andaman and Nicobar Islands  2022  Female   \n",
       "\n",
       "             Cause Of Suicide  Number Of Suicides  Percentage Share  \n",
       "0  Bankruptcy or Indebtedness                 0.0               NaN  \n",
       "1            Causes Not Known                 0.0               NaN  \n",
       "2        Death of Dear Person                 0.0               NaN  "
      ]
     },
     "execution_count": 100,
     "metadata": {},
     "output_type": "execute_result"
    }
   ],
   "source": [
    "df['Year']=df[\"Year\"].str.extract(r'(\\d{4})').astype(int)\n",
    "df.head(3)"
   ]
  },
  {
   "cell_type": "code",
   "execution_count": 101,
   "id": "bfe4e455",
   "metadata": {},
   "outputs": [
    {
     "name": "stdout",
     "output_type": "stream",
     "text": [
      "<class 'pandas.core.frame.DataFrame'>\n",
      "RangeIndex: 65094 entries, 0 to 65093\n",
      "Data columns (total 7 columns):\n",
      " #   Column              Non-Null Count  Dtype  \n",
      "---  ------              --------------  -----  \n",
      " 0   Country             65094 non-null  object \n",
      " 1   State               65094 non-null  object \n",
      " 2   Year                65094 non-null  int64  \n",
      " 3   Gender              65094 non-null  object \n",
      " 4   Cause Of Suicide    65094 non-null  object \n",
      " 5   Number Of Suicides  65016 non-null  float64\n",
      " 6   Percentage Share    27138 non-null  float64\n",
      "dtypes: float64(2), int64(1), object(4)\n",
      "memory usage: 3.5+ MB\n"
     ]
    }
   ],
   "source": [
    "df.info()"
   ]
  },
  {
   "cell_type": "code",
   "execution_count": 102,
   "id": "606f4b4e",
   "metadata": {},
   "outputs": [
    {
     "data": {
      "text/plain": [
       "array(['Bankruptcy or Indebtedness', 'Causes Not Known',\n",
       "       'Death of Dear Person', 'Drug Abuse/Alcoholic Addiction',\n",
       "       'Failure in Examination', 'Fall in Social Reputation',\n",
       "       'Family Problems', 'Ideological Causes/Hero Worshipping',\n",
       "       'Illegitimate Pregnancy (Other than Extra Marital Affairs)',\n",
       "       'Illness (AIDS/STD)', 'Illness (Cancer)',\n",
       "       'Illness (Insanity/Mental illness)',\n",
       "       'Illness (Other Prolonged Illness)', 'Illness (Paralysis)',\n",
       "       'Illness (Total)', 'Impotency/Infertility', 'Love Affairs',\n",
       "       'Marriage Related Issues (Divorce)',\n",
       "       'Marriage Related Issues (Dowry Related Issues)',\n",
       "       'Marriage Related Issues (Extra Marital affairs)',\n",
       "       'Marriage Related Issues (Non-Settlement of Marriage)',\n",
       "       'Marriage Related Issues (Others)',\n",
       "       'Marriage Related Issues (Total)', 'Other Causes',\n",
       "       'Physical Abuse (Rape, etc.)', 'Poverty',\n",
       "       'Professional/Career Problem', 'Property Dispute',\n",
       "       'Suspected/ Illicit Relation (Other than Extra Marital Affairs)',\n",
       "       'Unemployment'], dtype=object)"
      ]
     },
     "execution_count": 102,
     "metadata": {},
     "output_type": "execute_result"
    }
   ],
   "source": [
    "df['Cause Of Suicide'].unique()"
   ]
  },
  {
   "cell_type": "code",
   "execution_count": 103,
   "id": "4f22bcef",
   "metadata": {},
   "outputs": [
    {
     "name": "stdout",
     "output_type": "stream",
     "text": [
      "2520\n"
     ]
    }
   ],
   "source": [
    "total_rows_count = df['Cause Of Suicide'].str.contains('Total').sum()\n",
    "print(total_rows_count)"
   ]
  },
  {
   "cell_type": "code",
   "execution_count": 104,
   "id": "7970ba0f",
   "metadata": {},
   "outputs": [
    {
     "data": {
      "text/plain": [
       "array(['Bankruptcy or Indebtedness', 'Causes Not Known',\n",
       "       'Death of Dear Person', 'Drug Abuse/Alcoholic Addiction',\n",
       "       'Failure in Examination', 'Fall in Social Reputation',\n",
       "       'Family Problems', 'Ideological Causes/Hero Worshipping',\n",
       "       'Illegitimate Pregnancy (Other than Extra Marital Affairs)',\n",
       "       'Illness (AIDS/STD)', 'Illness (Cancer)',\n",
       "       'Illness (Insanity/Mental illness)',\n",
       "       'Illness (Other Prolonged Illness)', 'Illness (Paralysis)',\n",
       "       'Impotency/Infertility', 'Love Affairs',\n",
       "       'Marriage Related Issues (Divorce)',\n",
       "       'Marriage Related Issues (Dowry Related Issues)',\n",
       "       'Marriage Related Issues (Extra Marital affairs)',\n",
       "       'Marriage Related Issues (Non-Settlement of Marriage)',\n",
       "       'Marriage Related Issues (Others)', 'Other Causes',\n",
       "       'Physical Abuse (Rape, etc.)', 'Poverty',\n",
       "       'Professional/Career Problem', 'Property Dispute',\n",
       "       'Suspected/ Illicit Relation (Other than Extra Marital Affairs)',\n",
       "       'Unemployment'], dtype=object)"
      ]
     },
     "execution_count": 104,
     "metadata": {},
     "output_type": "execute_result"
    }
   ],
   "source": [
    "\n",
    "df = df[~df['Cause Of Suicide'].str.contains('Total')]\n",
    "\n",
    "df[\"Cause Of Suicide\"].unique()\n",
    "#we have removed all the rows which contained total values in the causes of Suicide we will now be categorising the data in 3 broad terms , \n",
    "# 1st - Illness if illness related , 2nd Marriage if marriage related , 3rd Various category will include all the rest\n"
   ]
  },
  {
   "cell_type": "code",
   "execution_count": 105,
   "id": "e1394f9a",
   "metadata": {},
   "outputs": [],
   "source": [
    "def categorize(cause):\n",
    "    if 'Marriage' in cause:\n",
    "        return 'Marriage'\n",
    "    elif 'Illness' in cause:\n",
    "        return 'Illness'\n",
    "    else:\n",
    "        return 'Various'\n",
    "\n",
    "df['Category'] = df['Cause Of Suicide'].apply(categorize)"
   ]
  },
  {
   "cell_type": "code",
   "execution_count": 106,
   "id": "f9f19390",
   "metadata": {},
   "outputs": [
    {
     "data": {
      "text/html": [
       "<div>\n",
       "<style scoped>\n",
       "    .dataframe tbody tr th:only-of-type {\n",
       "        vertical-align: middle;\n",
       "    }\n",
       "\n",
       "    .dataframe tbody tr th {\n",
       "        vertical-align: top;\n",
       "    }\n",
       "\n",
       "    .dataframe thead th {\n",
       "        text-align: right;\n",
       "    }\n",
       "</style>\n",
       "<table border=\"1\" class=\"dataframe\">\n",
       "  <thead>\n",
       "    <tr style=\"text-align: right;\">\n",
       "      <th></th>\n",
       "      <th>Country</th>\n",
       "      <th>State</th>\n",
       "      <th>Year</th>\n",
       "      <th>Gender</th>\n",
       "      <th>Cause Of Suicide</th>\n",
       "      <th>Number Of Suicides</th>\n",
       "      <th>Percentage Share</th>\n",
       "      <th>Category</th>\n",
       "    </tr>\n",
       "  </thead>\n",
       "  <tbody>\n",
       "    <tr>\n",
       "      <th>0</th>\n",
       "      <td>India</td>\n",
       "      <td>Andaman and Nicobar Islands</td>\n",
       "      <td>2022</td>\n",
       "      <td>Female</td>\n",
       "      <td>Bankruptcy or Indebtedness</td>\n",
       "      <td>0.0</td>\n",
       "      <td>NaN</td>\n",
       "      <td>Various</td>\n",
       "    </tr>\n",
       "    <tr>\n",
       "      <th>1</th>\n",
       "      <td>India</td>\n",
       "      <td>Andaman and Nicobar Islands</td>\n",
       "      <td>2022</td>\n",
       "      <td>Female</td>\n",
       "      <td>Causes Not Known</td>\n",
       "      <td>0.0</td>\n",
       "      <td>NaN</td>\n",
       "      <td>Various</td>\n",
       "    </tr>\n",
       "    <tr>\n",
       "      <th>2</th>\n",
       "      <td>India</td>\n",
       "      <td>Andaman and Nicobar Islands</td>\n",
       "      <td>2022</td>\n",
       "      <td>Female</td>\n",
       "      <td>Death of Dear Person</td>\n",
       "      <td>0.0</td>\n",
       "      <td>NaN</td>\n",
       "      <td>Various</td>\n",
       "    </tr>\n",
       "  </tbody>\n",
       "</table>\n",
       "</div>"
      ],
      "text/plain": [
       "  Country                        State  Year  Gender  \\\n",
       "0   India  Andaman and Nicobar Islands  2022  Female   \n",
       "1   India  Andaman and Nicobar Islands  2022  Female   \n",
       "2   India  Andaman and Nicobar Islands  2022  Female   \n",
       "\n",
       "             Cause Of Suicide  Number Of Suicides  Percentage Share Category  \n",
       "0  Bankruptcy or Indebtedness                 0.0               NaN  Various  \n",
       "1            Causes Not Known                 0.0               NaN  Various  \n",
       "2        Death of Dear Person                 0.0               NaN  Various  "
      ]
     },
     "execution_count": 106,
     "metadata": {},
     "output_type": "execute_result"
    }
   ],
   "source": [
    "df.head(3)"
   ]
  },
  {
   "cell_type": "code",
   "execution_count": 107,
   "id": "a9be3e03",
   "metadata": {},
   "outputs": [
    {
     "data": {
      "text/html": [
       "<div>\n",
       "<style scoped>\n",
       "    .dataframe tbody tr th:only-of-type {\n",
       "        vertical-align: middle;\n",
       "    }\n",
       "\n",
       "    .dataframe tbody tr th {\n",
       "        vertical-align: top;\n",
       "    }\n",
       "\n",
       "    .dataframe thead th {\n",
       "        text-align: right;\n",
       "    }\n",
       "</style>\n",
       "<table border=\"1\" class=\"dataframe\">\n",
       "  <thead>\n",
       "    <tr style=\"text-align: right;\">\n",
       "      <th></th>\n",
       "      <th>Year</th>\n",
       "      <th>Number Of Suicides</th>\n",
       "      <th>Percentage Share</th>\n",
       "    </tr>\n",
       "  </thead>\n",
       "  <tbody>\n",
       "    <tr>\n",
       "      <th>count</th>\n",
       "      <td>62574.000000</td>\n",
       "      <td>62496.000000</td>\n",
       "      <td>27138.000000</td>\n",
       "    </tr>\n",
       "    <tr>\n",
       "      <th>mean</th>\n",
       "      <td>2013.856362</td>\n",
       "      <td>84.616231</td>\n",
       "      <td>5.083580</td>\n",
       "    </tr>\n",
       "    <tr>\n",
       "      <th>std</th>\n",
       "      <td>5.436157</td>\n",
       "      <td>443.024717</td>\n",
       "      <td>12.726442</td>\n",
       "    </tr>\n",
       "    <tr>\n",
       "      <th>min</th>\n",
       "      <td>2004.000000</td>\n",
       "      <td>0.000000</td>\n",
       "      <td>0.000000</td>\n",
       "    </tr>\n",
       "    <tr>\n",
       "      <th>25%</th>\n",
       "      <td>2009.000000</td>\n",
       "      <td>0.000000</td>\n",
       "      <td>0.000000</td>\n",
       "    </tr>\n",
       "    <tr>\n",
       "      <th>50%</th>\n",
       "      <td>2015.000000</td>\n",
       "      <td>1.000000</td>\n",
       "      <td>0.700000</td>\n",
       "    </tr>\n",
       "    <tr>\n",
       "      <th>75%</th>\n",
       "      <td>2019.000000</td>\n",
       "      <td>24.000000</td>\n",
       "      <td>3.387500</td>\n",
       "    </tr>\n",
       "    <tr>\n",
       "      <th>max</th>\n",
       "      <td>2022.000000</td>\n",
       "      <td>50451.000000</td>\n",
       "      <td>200.000000</td>\n",
       "    </tr>\n",
       "  </tbody>\n",
       "</table>\n",
       "</div>"
      ],
      "text/plain": [
       "               Year  Number Of Suicides  Percentage Share\n",
       "count  62574.000000        62496.000000      27138.000000\n",
       "mean    2013.856362           84.616231          5.083580\n",
       "std        5.436157          443.024717         12.726442\n",
       "min     2004.000000            0.000000          0.000000\n",
       "25%     2009.000000            0.000000          0.000000\n",
       "50%     2015.000000            1.000000          0.700000\n",
       "75%     2019.000000           24.000000          3.387500\n",
       "max     2022.000000        50451.000000        200.000000"
      ]
     },
     "execution_count": 107,
     "metadata": {},
     "output_type": "execute_result"
    }
   ],
   "source": [
    "df.describe()"
   ]
  },
  {
   "cell_type": "code",
   "execution_count": 108,
   "id": "287f698f",
   "metadata": {},
   "outputs": [
    {
     "name": "stdout",
     "output_type": "stream",
     "text": [
      "<class 'pandas.core.frame.DataFrame'>\n",
      "Index: 62574 entries, 0 to 65093\n",
      "Data columns (total 8 columns):\n",
      " #   Column              Non-Null Count  Dtype  \n",
      "---  ------              --------------  -----  \n",
      " 0   Country             62574 non-null  object \n",
      " 1   State               62574 non-null  object \n",
      " 2   Year                62574 non-null  int64  \n",
      " 3   Gender              62574 non-null  object \n",
      " 4   Cause Of Suicide    62574 non-null  object \n",
      " 5   Number Of Suicides  62496 non-null  float64\n",
      " 6   Percentage Share    27138 non-null  float64\n",
      " 7   Category            62574 non-null  object \n",
      "dtypes: float64(2), int64(1), object(5)\n",
      "memory usage: 4.3+ MB\n"
     ]
    }
   ],
   "source": [
    "df.info()"
   ]
  },
  {
   "cell_type": "code",
   "execution_count": 109,
   "id": "1affb641",
   "metadata": {},
   "outputs": [],
   "source": [
    "df = df[~df['Gender'].str.contains('Total')]"
   ]
  },
  {
   "cell_type": "code",
   "execution_count": 110,
   "id": "c295ce91",
   "metadata": {},
   "outputs": [
    {
     "data": {
      "text/html": [
       "<div>\n",
       "<style scoped>\n",
       "    .dataframe tbody tr th:only-of-type {\n",
       "        vertical-align: middle;\n",
       "    }\n",
       "\n",
       "    .dataframe tbody tr th {\n",
       "        vertical-align: top;\n",
       "    }\n",
       "\n",
       "    .dataframe thead th {\n",
       "        text-align: right;\n",
       "    }\n",
       "</style>\n",
       "<table border=\"1\" class=\"dataframe\">\n",
       "  <thead>\n",
       "    <tr style=\"text-align: right;\">\n",
       "      <th></th>\n",
       "      <th>Year</th>\n",
       "      <th>Number Of Suicides</th>\n",
       "      <th>Percentage Share</th>\n",
       "    </tr>\n",
       "  </thead>\n",
       "  <tbody>\n",
       "    <tr>\n",
       "      <th>count</th>\n",
       "      <td>44656.000000</td>\n",
       "      <td>44604.000000</td>\n",
       "      <td>18092.000000</td>\n",
       "    </tr>\n",
       "    <tr>\n",
       "      <th>mean</th>\n",
       "      <td>2014.129165</td>\n",
       "      <td>59.279168</td>\n",
       "      <td>3.812685</td>\n",
       "    </tr>\n",
       "    <tr>\n",
       "      <th>std</th>\n",
       "      <td>5.394563</td>\n",
       "      <td>317.964798</td>\n",
       "      <td>8.908838</td>\n",
       "    </tr>\n",
       "    <tr>\n",
       "      <th>min</th>\n",
       "      <td>2004.000000</td>\n",
       "      <td>0.000000</td>\n",
       "      <td>0.000000</td>\n",
       "    </tr>\n",
       "    <tr>\n",
       "      <th>25%</th>\n",
       "      <td>2010.000000</td>\n",
       "      <td>0.000000</td>\n",
       "      <td>0.000000</td>\n",
       "    </tr>\n",
       "    <tr>\n",
       "      <th>50%</th>\n",
       "      <td>2015.000000</td>\n",
       "      <td>0.000000</td>\n",
       "      <td>0.600000</td>\n",
       "    </tr>\n",
       "    <tr>\n",
       "      <th>75%</th>\n",
       "      <td>2019.000000</td>\n",
       "      <td>15.000000</td>\n",
       "      <td>2.600000</td>\n",
       "    </tr>\n",
       "    <tr>\n",
       "      <th>max</th>\n",
       "      <td>2022.000000</td>\n",
       "      <td>34574.000000</td>\n",
       "      <td>100.000000</td>\n",
       "    </tr>\n",
       "  </tbody>\n",
       "</table>\n",
       "</div>"
      ],
      "text/plain": [
       "               Year  Number Of Suicides  Percentage Share\n",
       "count  44656.000000        44604.000000      18092.000000\n",
       "mean    2014.129165           59.279168          3.812685\n",
       "std        5.394563          317.964798          8.908838\n",
       "min     2004.000000            0.000000          0.000000\n",
       "25%     2010.000000            0.000000          0.000000\n",
       "50%     2015.000000            0.000000          0.600000\n",
       "75%     2019.000000           15.000000          2.600000\n",
       "max     2022.000000        34574.000000        100.000000"
      ]
     },
     "execution_count": 110,
     "metadata": {},
     "output_type": "execute_result"
    }
   ],
   "source": [
    "\n",
    "df.describe()"
   ]
  },
  {
   "cell_type": "code",
   "execution_count": 133,
   "id": "5a673349",
   "metadata": {},
   "outputs": [
    {
     "data": {
      "text/plain": [
       "array(['Female', 'Male', 'Transgender'], dtype=object)"
      ]
     },
     "execution_count": 133,
     "metadata": {},
     "output_type": "execute_result"
    }
   ],
   "source": [
    "df['Gender'].unique()"
   ]
  },
  {
   "cell_type": "code",
   "execution_count": null,
   "id": "545ca15f",
   "metadata": {},
   "outputs": [],
   "source": []
  }
 ],
 "metadata": {
  "kernelspec": {
   "display_name": "Python 3",
   "language": "python",
   "name": "python3"
  },
  "language_info": {
   "codemirror_mode": {
    "name": "ipython",
    "version": 3
   },
   "file_extension": ".py",
   "mimetype": "text/x-python",
   "name": "python",
   "nbconvert_exporter": "python",
   "pygments_lexer": "ipython3",
   "version": "3.13.3"
  }
 },
 "nbformat": 4,
 "nbformat_minor": 5
}
